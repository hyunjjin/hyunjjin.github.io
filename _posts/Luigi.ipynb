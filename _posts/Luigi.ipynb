{
 "cells": [
  {
   "cell_type": "markdown",
   "metadata": {},
   "source": [
    "https://www.slideshare.net/songew/pycon-korea-2018-luigi-data-pipeline-system-111598140  \n",
    "https://www.youtube.com/watch?v=UOunv9V14cA\n",
    "\n"
   ]
  },
  {
   "cell_type": "code",
   "execution_count": 1,
   "metadata": {},
   "outputs": [
    {
     "name": "stdout",
     "output_type": "stream",
     "text": [
      "Collecting luigi\n",
      "  Downloading luigi-3.0.2.tar.gz (1.2 MB)\n",
      "\u001b[K     |████████████████████████████████| 1.2 MB 692 kB/s eta 0:00:01\n",
      "\u001b[?25hRequirement already satisfied: python-dateutil<3,>=2.7.5 in /home/hyunji/anaconda3/lib/python3.7/site-packages (from luigi) (2.8.1)\n",
      "Collecting python-daemon\n",
      "  Downloading python_daemon-2.2.4-py2.py3-none-any.whl (35 kB)\n",
      "Requirement already satisfied: tornado<7,>=5.0 in /home/hyunji/anaconda3/lib/python3.7/site-packages (from luigi) (6.0.4)\n",
      "Requirement already satisfied: six>=1.5 in /home/hyunji/anaconda3/lib/python3.7/site-packages (from python-dateutil<3,>=2.7.5->luigi) (1.15.0)\n",
      "Requirement already satisfied: docutils in /home/hyunji/anaconda3/lib/python3.7/site-packages (from python-daemon->luigi) (0.15.2)\n",
      "Collecting lockfile>=0.10\n",
      "  Downloading lockfile-0.12.2-py2.py3-none-any.whl (13 kB)\n",
      "Requirement already satisfied: setuptools in /home/hyunji/anaconda3/lib/python3.7/site-packages (from python-daemon->luigi) (47.3.1.post20200622)\n",
      "Building wheels for collected packages: luigi\n",
      "  Building wheel for luigi (setup.py) ... \u001b[?25ldone\n",
      "\u001b[?25h  Created wheel for luigi: filename=luigi-3.0.2-py3-none-any.whl size=1076734 sha256=76bf468a512eb80cbc048d9357366de62eacff5bbf569a3dd9e3966bfa404b17\n",
      "  Stored in directory: /home/hyunji/.cache/pip/wheels/78/ec/35/5b66c9ff7e8502c7de989e6cc06bdad16967417d13b900e5f8\n",
      "Successfully built luigi\n",
      "Installing collected packages: lockfile, python-daemon, luigi\n",
      "Successfully installed lockfile-0.12.2 luigi-3.0.2 python-daemon-2.2.4\n"
     ]
    }
   ],
   "source": [
    "!pip install luigi"
   ]
  },
  {
   "cell_type": "code",
   "execution_count": 10,
   "metadata": {},
   "outputs": [
    {
     "data": {
      "text/plain": [
       "<luigi.parameter.DateParameter at 0x7f5ff79a6e10>"
      ]
     },
     "execution_count": 10,
     "metadata": {},
     "output_type": "execute_result"
    }
   ],
   "source": [
    "import luigi\n",
    "import datetime\n",
    "\n",
    "luigi.DateParameter(default = datetime.datetime.today().date())\n"
   ]
  },
  {
   "cell_type": "code",
   "execution_count": null,
   "metadata": {},
   "outputs": [],
   "source": [
    "class RunOnceMixIn(luigi.Task):\n",
    "\n",
    "    count = luigi.Parameter(default=0)\n",
    "\n",
    "\n",
    "\n",
    "    def complete(self):\n",
    "\n",
    "        if self.count < 2:\n",
    "\n",
    "            self.count += 1\n",
    "\n",
    "            return False\n",
    "\n",
    "        else:\n",
    "\n",
    "            return True\n",
    "        \n",
    "\n",
    "class PrintHello(luigi.Task):\n",
    "\n",
    "    def run(self):\n",
    "\n",
    "        print \"hello luigi\"\n",
    "        \n",
    "        \n",
    "class HelloEntry(luigi.WrapperTask):\n",
    "    def requires(self):\n",
    "        return [PrintHello()]"
   ]
  },
  {
   "cell_type": "code",
   "execution_count": 11,
   "metadata": {},
   "outputs": [
    {
     "data": {
      "text/plain": [
       "luigi.task.Task"
      ]
     },
     "execution_count": 11,
     "metadata": {},
     "output_type": "execute_result"
    }
   ],
   "source": [
    "luigi.Task"
   ]
  },
  {
   "cell_type": "code",
   "execution_count": null,
   "metadata": {},
   "outputs": [],
   "source": []
  },
  {
   "cell_type": "code",
   "execution_count": null,
   "metadata": {},
   "outputs": [],
   "source": []
  },
  {
   "cell_type": "code",
   "execution_count": null,
   "metadata": {},
   "outputs": [],
   "source": []
  },
  {
   "cell_type": "code",
   "execution_count": null,
   "metadata": {},
   "outputs": [],
   "source": []
  }
 ],
 "metadata": {
  "kernelspec": {
   "display_name": "Python 3",
   "language": "python",
   "name": "python3"
  },
  "language_info": {
   "codemirror_mode": {
    "name": "ipython",
    "version": 3
   },
   "file_extension": ".py",
   "mimetype": "text/x-python",
   "name": "python",
   "nbconvert_exporter": "python",
   "pygments_lexer": "ipython3",
   "version": "3.7.6"
  }
 },
 "nbformat": 4,
 "nbformat_minor": 4
}
